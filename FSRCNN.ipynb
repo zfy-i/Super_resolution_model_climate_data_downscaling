{
 "cells": [
  {
   "cell_type": "code",
   "execution_count": 1,
   "id": "178b2337-e238-4e08-a916-2ba8536f1d69",
   "metadata": {},
   "outputs": [],
   "source": [
    "import torch\n",
    "from torch.utils.data import Dataset, DataLoader\n",
    "from torchvision import transforms\n",
    "import rasterio\n",
    "import numpy as np\n",
    "import torch.nn as nn\n",
    "import torch.optim as optim\n",
    "from skimage.transform import resize\n",
    "from tqdm import tqdm\n",
    "import pandas as pd\n",
    "import torchvision.transforms as transforms"
   ]
  },
  {
   "cell_type": "code",
   "execution_count": 5,
   "id": "196a31d2-77eb-41ea-bdc2-6ef2851b3173",
   "metadata": {},
   "outputs": [],
   "source": [
    "def train_model(model, dataloader, criterion, optimizer, device):\n",
    "    model.train()\n",
    "    running_loss = 0.0\n",
    "    for inputs, targets in tqdm(dataloader):\n",
    "        inputs  = inputs.float().to(device)\n",
    "        targets = targets.float().to(device)\n",
    "\n",
    "        inputs[torch.isnan(inputs)] = 0\n",
    "        targets[torch.isnan(targets)] = 0\n",
    "\n",
    "        assert not torch.isnan(inputs).any(), \"Input contains NaN values\"\n",
    "        assert not torch.isnan(targets).any(), \"Target contains NaN values\"\n",
    "        \n",
    "        optimizer.zero_grad()\n",
    "        outputs_up = model(inputs)\n",
    "\n",
    "        loss = criterion(outputs_up, targets).to(device)\n",
    "        loss.backward()\n",
    "        optimizer.step()\n",
    "\n",
    "        running_loss += loss.item() * inputs.size(0)\n",
    "\n",
    "    epoch_loss = running_loss / len(dataloader.dataset)\n",
    "    return epoch_loss\n",
    "\n",
    "def validate_model(model, dataloader, criterion, device):\n",
    "    model.eval()\n",
    "    running_loss = 0.0\n",
    "    with torch.no_grad():\n",
    "        for inputs, targets in tqdm(dataloader):\n",
    "            inputs = inputs.float().to(device)\n",
    "            targets =  targets.float().to(device)\n",
    "            inputs[torch.isnan(inputs)] = 0\n",
    "            targets[torch.isnan(targets)] = 0\n",
    "\n",
    "            outputs = model(inputs)\n",
    "\n",
    "            loss = criterion(outputs, targets)\n",
    "            running_loss += loss.item() * inputs.size(0)\n",
    "\n",
    "    epoch_loss = running_loss / len(dataloader.dataset)\n",
    "    return epoch_loss\n"
   ]
  },
  {
   "cell_type": "code",
   "execution_count": 6,
   "id": "8910f3b7-f37c-46eb-bf21-c4c320947daa",
   "metadata": {},
   "outputs": [],
   "source": [
    "class FSRCNN(nn.Module):\n",
    "    def __init__(self):\n",
    "        super(FSRCNN, self).__init__()\n",
    "        # Feature Extraction\n",
    "        self.conv1 = nn.Conv2d(1, 56, kernel_size=5, padding=2)\n",
    "        self.relu1 = nn.ReLU()\n",
    "        self.conv2 = nn.Conv2d(56, 12, kernel_size=1)\n",
    "        self.relu2 = nn.ReLU()\n",
    "\n",
    "        self.conv21 = nn.Conv2d(12, 12, kernel_size=1)\n",
    "        self.relu21 = nn.ReLU()\n",
    "        self.conv22 = nn.Conv2d(12, 12, kernel_size=1)\n",
    "        self.relu22 = nn.ReLU()\n",
    "\n",
    "        self.conv3 = nn.Conv2d(12, 56, kernel_size=1)\n",
    "        self.relu3 = nn.ReLU()\n",
    "        \n",
    "        self.deconv = nn.ConvTranspose2d(56, 56, kernel_size=9, stride=5, padding=4, output_padding=4)\n",
    "        self.relu4 = nn.ReLU()\n",
    "        self.deconv1 = nn.ConvTranspose2d(56, 1, kernel_size=9, stride=2, padding=4, output_padding=1)\n",
    "    def forward(self, x):\n",
    "        x = self.relu1(self.conv1(x))\n",
    "        x = self.relu2(self.conv2(x))\n",
    "        x = self.relu21(self.conv21(x))\n",
    "        x = self.relu22(self.conv22(x))\n",
    "        x = self.relu3(self.conv3(x))\n",
    "        x = self.relu4(self.deconv(x))\n",
    "        x = self.deconv1(x)\n",
    "        return x"
   ]
  },
  {
   "cell_type": "code",
   "execution_count": 14,
   "id": "c452d1d9-9dcb-449a-b915-f9fb608d0e3f",
   "metadata": {
    "scrolled": true
   },
   "outputs": [
    {
     "name": "stdout",
     "output_type": "stream",
     "text": [
      "Epoch 1/100\n",
      "Model is training on: cuda:0\n"
     ]
    },
    {
     "name": "stderr",
     "output_type": "stream",
     "text": [
      "100%|██████████| 23/23 [00:05<00:00,  4.37it/s]\n",
      "100%|██████████| 23/23 [00:05<00:00,  4.17it/s]\n"
     ]
    },
    {
     "name": "stdout",
     "output_type": "stream",
     "text": [
      "Train Loss: 264.5793 | Validation Loss: 261.7564\n",
      "Model saved!\n",
      "Epoch 2/100\n",
      "Model is training on: cuda:0\n"
     ]
    },
    {
     "name": "stderr",
     "output_type": "stream",
     "text": [
      "100%|██████████| 23/23 [00:05<00:00,  4.19it/s]\n",
      "100%|██████████| 23/23 [00:05<00:00,  4.03it/s]\n"
     ]
    },
    {
     "name": "stdout",
     "output_type": "stream",
     "text": [
      "Train Loss: 254.1192 | Validation Loss: 241.6119\n",
      "Model saved!\n",
      "Epoch 3/100\n",
      "Model is training on: cuda:0\n"
     ]
    },
    {
     "name": "stderr",
     "output_type": "stream",
     "text": [
      "100%|██████████| 23/23 [00:05<00:00,  4.13it/s]\n",
      "100%|██████████| 23/23 [00:05<00:00,  4.24it/s]\n"
     ]
    },
    {
     "name": "stdout",
     "output_type": "stream",
     "text": [
      "Train Loss: 214.9369 | Validation Loss: 172.1268\n",
      "Model saved!\n",
      "Epoch 4/100\n",
      "Model is training on: cuda:0\n"
     ]
    },
    {
     "name": "stderr",
     "output_type": "stream",
     "text": [
      "100%|██████████| 23/23 [00:05<00:00,  4.11it/s]\n",
      "100%|██████████| 23/23 [00:05<00:00,  4.04it/s]\n"
     ]
    },
    {
     "name": "stdout",
     "output_type": "stream",
     "text": [
      "Train Loss: 102.1652 | Validation Loss: 48.9492\n",
      "Model saved!\n",
      "Epoch 5/100\n",
      "Model is training on: cuda:0\n"
     ]
    },
    {
     "name": "stderr",
     "output_type": "stream",
     "text": [
      "100%|██████████| 23/23 [00:05<00:00,  4.18it/s]\n",
      "100%|██████████| 23/23 [00:05<00:00,  4.17it/s]\n"
     ]
    },
    {
     "name": "stdout",
     "output_type": "stream",
     "text": [
      "Train Loss: 38.1238 | Validation Loss: 27.1708\n",
      "Model saved!\n",
      "Epoch 6/100\n",
      "Model is training on: cuda:0\n"
     ]
    },
    {
     "name": "stderr",
     "output_type": "stream",
     "text": [
      "100%|██████████| 23/23 [00:05<00:00,  4.19it/s]\n",
      "100%|██████████| 23/23 [00:05<00:00,  4.22it/s]\n"
     ]
    },
    {
     "name": "stdout",
     "output_type": "stream",
     "text": [
      "Train Loss: 23.6758 | Validation Loss: 20.3016\n",
      "Model saved!\n",
      "Epoch 7/100\n",
      "Model is training on: cuda:0\n"
     ]
    },
    {
     "name": "stderr",
     "output_type": "stream",
     "text": [
      "100%|██████████| 23/23 [00:05<00:00,  4.12it/s]\n",
      "100%|██████████| 23/23 [00:05<00:00,  4.01it/s]\n"
     ]
    },
    {
     "name": "stdout",
     "output_type": "stream",
     "text": [
      "Train Loss: 18.6244 | Validation Loss: 17.1023\n",
      "Model saved!\n",
      "Epoch 8/100\n",
      "Model is training on: cuda:0\n"
     ]
    },
    {
     "name": "stderr",
     "output_type": "stream",
     "text": [
      "100%|██████████| 23/23 [00:05<00:00,  4.30it/s]\n",
      "100%|██████████| 23/23 [00:05<00:00,  4.21it/s]\n"
     ]
    },
    {
     "name": "stdout",
     "output_type": "stream",
     "text": [
      "Train Loss: 16.0735 | Validation Loss: 15.0859\n",
      "Model saved!\n",
      "Epoch 9/100\n",
      "Model is training on: cuda:0\n"
     ]
    },
    {
     "name": "stderr",
     "output_type": "stream",
     "text": [
      "100%|██████████| 23/23 [00:05<00:00,  4.30it/s]\n",
      "100%|██████████| 23/23 [00:05<00:00,  4.12it/s]\n"
     ]
    },
    {
     "name": "stdout",
     "output_type": "stream",
     "text": [
      "Train Loss: 14.6218 | Validation Loss: 14.1232\n",
      "Model saved!\n",
      "Epoch 10/100\n",
      "Model is training on: cuda:0\n"
     ]
    },
    {
     "name": "stderr",
     "output_type": "stream",
     "text": [
      "100%|██████████| 23/23 [00:05<00:00,  4.24it/s]\n",
      "100%|██████████| 23/23 [00:05<00:00,  4.06it/s]\n"
     ]
    },
    {
     "name": "stdout",
     "output_type": "stream",
     "text": [
      "Train Loss: 13.7655 | Validation Loss: 13.3681\n",
      "Model saved!\n",
      "Epoch 11/100\n",
      "Model is training on: cuda:0\n"
     ]
    },
    {
     "name": "stderr",
     "output_type": "stream",
     "text": [
      " 52%|█████▏    | 12/23 [00:03<00:02,  3.87it/s]\n"
     ]
    },
    {
     "ename": "KeyboardInterrupt",
     "evalue": "",
     "output_type": "error",
     "traceback": [
      "\u001b[1;31m---------------------------------------------------------------------------\u001b[0m",
      "\u001b[1;31mKeyboardInterrupt\u001b[0m                         Traceback (most recent call last)",
      "Cell \u001b[1;32mIn[14], line 14\u001b[0m\n\u001b[0;32m     12\u001b[0m \u001b[38;5;28mprint\u001b[39m(\u001b[38;5;124mf\u001b[39m\u001b[38;5;124m'\u001b[39m\u001b[38;5;124mEpoch \u001b[39m\u001b[38;5;132;01m{\u001b[39;00mepoch\u001b[38;5;241m+\u001b[39m\u001b[38;5;241m1\u001b[39m\u001b[38;5;132;01m}\u001b[39;00m\u001b[38;5;124m/\u001b[39m\u001b[38;5;132;01m{\u001b[39;00mnum_epochs\u001b[38;5;132;01m}\u001b[39;00m\u001b[38;5;124m'\u001b[39m)\n\u001b[0;32m     13\u001b[0m \u001b[38;5;28mprint\u001b[39m(\u001b[38;5;124mf\u001b[39m\u001b[38;5;124m'\u001b[39m\u001b[38;5;124mModel is training on: \u001b[39m\u001b[38;5;132;01m{\u001b[39;00m\u001b[38;5;28mnext\u001b[39m(model\u001b[38;5;241m.\u001b[39mparameters())\u001b[38;5;241m.\u001b[39mdevice\u001b[38;5;132;01m}\u001b[39;00m\u001b[38;5;124m'\u001b[39m)\n\u001b[1;32m---> 14\u001b[0m train_loss \u001b[38;5;241m=\u001b[39m train_model(model, dataloader_train, criterion, optimizer, device)\n\u001b[0;32m     15\u001b[0m val_loss \u001b[38;5;241m=\u001b[39m validate_model(model, dataloader_val, criterion, device)\n\u001b[0;32m     16\u001b[0m \u001b[38;5;28mprint\u001b[39m(\u001b[38;5;124mf\u001b[39m\u001b[38;5;124m'\u001b[39m\u001b[38;5;124mTrain Loss: \u001b[39m\u001b[38;5;132;01m{\u001b[39;00mtrain_loss\u001b[38;5;132;01m:\u001b[39;00m\u001b[38;5;124m.4f\u001b[39m\u001b[38;5;132;01m}\u001b[39;00m\u001b[38;5;124m | Validation Loss: \u001b[39m\u001b[38;5;132;01m{\u001b[39;00mval_loss\u001b[38;5;132;01m:\u001b[39;00m\u001b[38;5;124m.4f\u001b[39m\u001b[38;5;132;01m}\u001b[39;00m\u001b[38;5;124m'\u001b[39m)\n",
      "Cell \u001b[1;32mIn[5], line 21\u001b[0m, in \u001b[0;36mtrain_model\u001b[1;34m(model, dataloader, criterion, optimizer, device)\u001b[0m\n\u001b[0;32m     18\u001b[0m     loss\u001b[38;5;241m.\u001b[39mbackward()\n\u001b[0;32m     19\u001b[0m     optimizer\u001b[38;5;241m.\u001b[39mstep()\n\u001b[1;32m---> 21\u001b[0m     running_loss \u001b[38;5;241m+\u001b[39m\u001b[38;5;241m=\u001b[39m loss\u001b[38;5;241m.\u001b[39mitem() \u001b[38;5;241m*\u001b[39m inputs\u001b[38;5;241m.\u001b[39msize(\u001b[38;5;241m0\u001b[39m)\n\u001b[0;32m     23\u001b[0m epoch_loss \u001b[38;5;241m=\u001b[39m running_loss \u001b[38;5;241m/\u001b[39m \u001b[38;5;28mlen\u001b[39m(dataloader\u001b[38;5;241m.\u001b[39mdataset)\n\u001b[0;32m     24\u001b[0m \u001b[38;5;28;01mreturn\u001b[39;00m epoch_loss\n",
      "\u001b[1;31mKeyboardInterrupt\u001b[0m: "
     ]
    }
   ],
   "source": [
    "model = FSRCNN().to(device)\n",
    "\n",
    "learning_rate = 0.0001\n",
    "criterion = nn.L1Loss().to(device)\n",
    "optimizer = optim.Adam(model.parameters(), lr=learning_rate,weight_decay=1e-4)\n",
    "\n",
    "num_epochs = 100\n",
    "best_loss = float('inf')\n",
    "\n",
    "\n",
    "for epoch in range(num_epochs):\n",
    "    print(f'Epoch {epoch+1}/{num_epochs}')\n",
    "    print(f'Model is training on: {next(model.parameters()).device}')\n",
    "    train_loss = train_model(model, dataloader_train, criterion, optimizer, device)\n",
    "    val_loss = validate_model(model, dataloader_val, criterion, device)\n",
    "    print(f'Train Loss: {train_loss:.4f} | Validation Loss: {val_loss:.4f}')\n",
    "    \n",
    "    if val_loss < best_loss:\n",
    "        best_loss = val_loss\n",
    "        torch.save(model.state_dict(), 'path')\n",
    "        print('Model saved!')\n"
   ]
  },
  {
   "cell_type": "code",
   "execution_count": null,
   "id": "8507f060-e93d-4d76-9641-3460782be9b1",
   "metadata": {},
   "outputs": [],
   "source": []
  },
  {
   "cell_type": "code",
   "execution_count": null,
   "id": "a7596108-37cf-4285-b900-0ba6f13b891a",
   "metadata": {},
   "outputs": [],
   "source": []
  }
 ],
 "metadata": {
  "kernelspec": {
   "display_name": "Python 3 (ipykernel)",
   "language": "python",
   "name": "python3"
  },
  "language_info": {
   "codemirror_mode": {
    "name": "ipython",
    "version": 3
   },
   "file_extension": ".py",
   "mimetype": "text/x-python",
   "name": "python",
   "nbconvert_exporter": "python",
   "pygments_lexer": "ipython3",
   "version": "3.9.20"
  }
 },
 "nbformat": 4,
 "nbformat_minor": 5
}
