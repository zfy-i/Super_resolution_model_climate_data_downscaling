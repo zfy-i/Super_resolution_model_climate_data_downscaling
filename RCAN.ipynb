{
 "cells": [
  {
   "cell_type": "code",
   "execution_count": 1,
   "id": "6e8395e0-9f7d-47dd-9f8c-a137f38adbec",
   "metadata": {},
   "outputs": [],
   "source": [
    "import torch\n",
    "from torch.utils.data import Dataset, DataLoader\n",
    "from torchvision import transforms\n",
    "import rasterio\n",
    "import numpy as np\n",
    "import torch.nn as nn\n",
    "import torch.optim as optim\n",
    "from skimage.transform import resize\n",
    "from tqdm import tqdm\n",
    "import pandas as pd\n",
    "import torchvision.transforms as transforms"
   ]
  },
  {
   "cell_type": "code",
   "execution_count": 5,
   "id": "d6f27605-efc1-421d-a519-155b75ac566d",
   "metadata": {},
   "outputs": [],
   "source": [
    "def train_model(model, dataloader, criterion, optimizer, device):\n",
    "    model.train()\n",
    "    running_loss = 0.0\n",
    "    for inputs, targets in tqdm(dataloader):\n",
    "        inputs  = inputs.float().to(device)\n",
    "        targets = targets.float().to(device)\n",
    "\n",
    "        inputs[torch.isnan(inputs)] = 0\n",
    "        targets[torch.isnan(targets)] = 0\n",
    "\n",
    "        assert not torch.isnan(inputs).any(), \"Input contains NaN values\"\n",
    "        assert not torch.isnan(targets).any(), \"Target contains NaN values\"\n",
    "        \n",
    "        optimizer.zero_grad()\n",
    "        outputs_up = model(inputs)\n",
    "\n",
    "        loss = criterion(outputs_up, targets).to(device)\n",
    "        loss.backward()\n",
    "        optimizer.step()\n",
    "\n",
    "        running_loss += loss.item() * inputs.size(0)\n",
    "\n",
    "    epoch_loss = running_loss / len(dataloader.dataset)\n",
    "    return epoch_loss\n",
    "\n",
    "def validate_model(model, dataloader, criterion, device):\n",
    "    model.eval()\n",
    "    running_loss = 0.0\n",
    "    with torch.no_grad():\n",
    "        for inputs, targets in tqdm(dataloader):\n",
    "            inputs = inputs.float().to(device)\n",
    "            targets =  targets.float().to(device)\n",
    "            inputs[torch.isnan(inputs)] = 0\n",
    "            targets[torch.isnan(targets)] = 0\n",
    "\n",
    "            outputs = model(inputs)\n",
    "\n",
    "            loss = criterion(outputs, targets)\n",
    "            running_loss += loss.item() * inputs.size(0)\n",
    "\n",
    "    epoch_loss = running_loss / len(dataloader.dataset)\n",
    "    return epoch_loss\n"
   ]
  },
  {
   "cell_type": "code",
   "execution_count": 6,
   "id": "eb48869c-46fd-44dc-85c0-ad02863579db",
   "metadata": {},
   "outputs": [],
   "source": [
    "import torch\n",
    "import torch.nn as nn\n",
    "\n",
    "class ChannelAttention(nn.Module):\n",
    "    def __init__(self, num_features, reduction=16):\n",
    "        super(ChannelAttention, self).__init__()\n",
    "        self.avg_pool = nn.AdaptiveAvgPool2d(1)\n",
    "        self.conv = nn.Sequential(\n",
    "            nn.Conv2d(num_features, num_features // reduction, 1, padding=0, bias=True),\n",
    "            nn.ReLU(inplace=True),\n",
    "            nn.Conv2d(num_features // reduction, num_features, 1, padding=0, bias=True),\n",
    "            nn.Sigmoid()\n",
    "        )\n",
    "\n",
    "    def forward(self, x):\n",
    "        y = self.avg_pool(x)\n",
    "        y = self.conv(y)\n",
    "        return x * y\n",
    "\n",
    "class RCAB(nn.Module):\n",
    "    def __init__(self, num_features, reduction):\n",
    "        super(RCAB, self).__init__()\n",
    "        self.body = nn.Sequential(\n",
    "            nn.Conv2d(num_features, num_features, 3, padding=1),\n",
    "            nn.ReLU(inplace=True),\n",
    "            nn.Conv2d(num_features, num_features, 3, padding=1),\n",
    "            ChannelAttention(num_features, reduction)\n",
    "        )\n",
    "\n",
    "    def forward(self, x):\n",
    "        return x + self.body(x)\n",
    "\n",
    "class ResidualGroup(nn.Module):\n",
    "    def __init__(self, num_features, num_blocks, reduction):\n",
    "        super(ResidualGroup, self).__init__()\n",
    "        self.body = nn.Sequential(\n",
    "            *[RCAB(num_features, reduction) for _ in range(num_blocks)],\n",
    "            nn.Conv2d(num_features, num_features, 3, padding=1)\n",
    "        )\n",
    "\n",
    "    def forward(self, x):\n",
    "        return x + self.body(x)\n",
    "\n",
    "class RCAN(nn.Module):\n",
    "    def __init__(self, num_features=64, num_groups=10, num_blocks=20, reduction=16, scale=4, in_channels=1, out_channels=1):\n",
    "        super(RCAN, self).__init__()\n",
    "        \n",
    "        self.conv1 = nn.Conv2d(in_channels, num_features, 3, padding=1)\n",
    "        \n",
    "        self.body = nn.Sequential(\n",
    "            *[ResidualGroup(num_features, num_blocks, reduction) for _ in range(num_groups)],\n",
    "            nn.Conv2d(num_features, num_features, 3, padding=1)\n",
    "        )\n",
    "        \n",
    "        self.upsample = nn.Sequential(\n",
    "            nn.Conv2d(num_features, num_features * (scale ** 2), 3, padding=1),\n",
    "            nn.PixelShuffle(scale)\n",
    "        )\n",
    "        \n",
    "        self.conv2 = nn.Conv2d(num_features, out_channels, 3, padding=1)\n",
    "\n",
    "    def forward(self, x):\n",
    "        x = self.conv1(x)\n",
    "        res = self.body(x)\n",
    "        res += x\n",
    "        x = self.upsample(res)\n",
    "        x = self.conv2(x)\n",
    "        return x\n",
    "\n"
   ]
  },
  {
   "cell_type": "code",
   "execution_count": 7,
   "id": "737d144a-9d67-4ef9-a120-edccf1b0c99f",
   "metadata": {
    "scrolled": true
   },
   "outputs": [
    {
     "name": "stdout",
     "output_type": "stream",
     "text": [
      "cuda\n",
      "Epoch 1/100\n",
      "Model is training on: cuda:0\n"
     ]
    },
    {
     "name": "stderr",
     "output_type": "stream",
     "text": [
      "100%|██████████| 640/640 [04:14<00:00,  2.51it/s]\n",
      "100%|██████████| 229/229 [00:42<00:00,  5.33it/s]\n"
     ]
    },
    {
     "name": "stdout",
     "output_type": "stream",
     "text": [
      "Train Loss: 507.1209 | Validation Loss: 20.2475\n",
      "Model saved!\n",
      "Epoch 2/100\n",
      "Model is training on: cuda:0\n"
     ]
    },
    {
     "name": "stderr",
     "output_type": "stream",
     "text": [
      "100%|██████████| 640/640 [04:11<00:00,  2.55it/s]\n",
      "100%|██████████| 229/229 [00:42<00:00,  5.36it/s]\n"
     ]
    },
    {
     "name": "stdout",
     "output_type": "stream",
     "text": [
      "Train Loss: 15.3858 | Validation Loss: 11.4209\n",
      "Model saved!\n",
      "Epoch 3/100\n",
      "Model is training on: cuda:0\n"
     ]
    },
    {
     "name": "stderr",
     "output_type": "stream",
     "text": [
      "100%|██████████| 640/640 [04:12<00:00,  2.53it/s]\n",
      "100%|██████████| 229/229 [00:42<00:00,  5.38it/s]\n"
     ]
    },
    {
     "name": "stdout",
     "output_type": "stream",
     "text": [
      "Train Loss: 9.8143 | Validation Loss: 8.9277\n",
      "Model saved!\n",
      "Epoch 4/100\n",
      "Model is training on: cuda:0\n"
     ]
    },
    {
     "name": "stderr",
     "output_type": "stream",
     "text": [
      "100%|██████████| 640/640 [04:11<00:00,  2.55it/s]\n",
      "100%|██████████| 229/229 [00:42<00:00,  5.38it/s]\n"
     ]
    },
    {
     "name": "stdout",
     "output_type": "stream",
     "text": [
      "Train Loss: 7.5820 | Validation Loss: 7.5074\n",
      "Model saved!\n",
      "Epoch 5/100\n",
      "Model is training on: cuda:0\n"
     ]
    },
    {
     "name": "stderr",
     "output_type": "stream",
     "text": [
      "100%|██████████| 640/640 [04:11<00:00,  2.55it/s]\n",
      "100%|██████████| 229/229 [00:42<00:00,  5.38it/s]\n"
     ]
    },
    {
     "name": "stdout",
     "output_type": "stream",
     "text": [
      "Train Loss: 6.2628 | Validation Loss: 7.0747\n",
      "Model saved!\n",
      "Epoch 6/100\n",
      "Model is training on: cuda:0\n"
     ]
    },
    {
     "name": "stderr",
     "output_type": "stream",
     "text": [
      "100%|██████████| 640/640 [04:11<00:00,  2.55it/s]\n",
      "100%|██████████| 229/229 [00:42<00:00,  5.37it/s]\n"
     ]
    },
    {
     "name": "stdout",
     "output_type": "stream",
     "text": [
      "Train Loss: 5.5496 | Validation Loss: 5.6759\n",
      "Model saved!\n",
      "Epoch 7/100\n",
      "Model is training on: cuda:0\n"
     ]
    },
    {
     "name": "stderr",
     "output_type": "stream",
     "text": [
      "100%|██████████| 640/640 [04:10<00:00,  2.55it/s]\n",
      "100%|██████████| 229/229 [00:42<00:00,  5.38it/s]\n"
     ]
    },
    {
     "name": "stdout",
     "output_type": "stream",
     "text": [
      "Train Loss: 4.7638 | Validation Loss: 5.2650\n",
      "Model saved!\n",
      "Epoch 8/100\n",
      "Model is training on: cuda:0\n"
     ]
    },
    {
     "name": "stderr",
     "output_type": "stream",
     "text": [
      "100%|██████████| 640/640 [04:11<00:00,  2.55it/s]\n",
      "100%|██████████| 229/229 [00:42<00:00,  5.39it/s]\n"
     ]
    },
    {
     "name": "stdout",
     "output_type": "stream",
     "text": [
      "Train Loss: 4.3614 | Validation Loss: 3.6135\n",
      "Model saved!\n",
      "Epoch 9/100\n",
      "Model is training on: cuda:0\n"
     ]
    },
    {
     "name": "stderr",
     "output_type": "stream",
     "text": [
      "100%|██████████| 640/640 [04:11<00:00,  2.55it/s]\n",
      "100%|██████████| 229/229 [00:42<00:00,  5.39it/s]\n"
     ]
    },
    {
     "name": "stdout",
     "output_type": "stream",
     "text": [
      "Train Loss: 3.6025 | Validation Loss: 3.0161\n",
      "Model saved!\n",
      "Epoch 10/100\n",
      "Model is training on: cuda:0\n"
     ]
    },
    {
     "name": "stderr",
     "output_type": "stream",
     "text": [
      "100%|██████████| 640/640 [04:10<00:00,  2.55it/s]\n",
      "100%|██████████| 229/229 [00:42<00:00,  5.40it/s]\n"
     ]
    },
    {
     "name": "stdout",
     "output_type": "stream",
     "text": [
      "Train Loss: 3.1685 | Validation Loss: 3.0966\n",
      "Epoch 11/100\n",
      "Model is training on: cuda:0\n"
     ]
    },
    {
     "name": "stderr",
     "output_type": "stream",
     "text": [
      "100%|██████████| 640/640 [04:11<00:00,  2.55it/s]\n",
      "100%|██████████| 229/229 [00:42<00:00,  5.39it/s]\n"
     ]
    },
    {
     "name": "stdout",
     "output_type": "stream",
     "text": [
      "Train Loss: 2.8555 | Validation Loss: 2.5557\n",
      "Model saved!\n",
      "Epoch 12/100\n",
      "Model is training on: cuda:0\n"
     ]
    },
    {
     "name": "stderr",
     "output_type": "stream",
     "text": [
      "100%|██████████| 640/640 [04:11<00:00,  2.55it/s]\n",
      "100%|██████████| 229/229 [00:42<00:00,  5.38it/s]\n"
     ]
    },
    {
     "name": "stdout",
     "output_type": "stream",
     "text": [
      "Train Loss: 2.5746 | Validation Loss: 2.7585\n",
      "Epoch 13/100\n",
      "Model is training on: cuda:0\n"
     ]
    },
    {
     "name": "stderr",
     "output_type": "stream",
     "text": [
      "100%|██████████| 640/640 [04:11<00:00,  2.55it/s]\n",
      "100%|██████████| 229/229 [00:42<00:00,  5.39it/s]\n"
     ]
    },
    {
     "name": "stdout",
     "output_type": "stream",
     "text": [
      "Train Loss: 3.0078 | Validation Loss: 17.6497\n",
      "Epoch 14/100\n",
      "Model is training on: cuda:0\n"
     ]
    },
    {
     "name": "stderr",
     "output_type": "stream",
     "text": [
      "100%|██████████| 640/640 [04:11<00:00,  2.55it/s]\n",
      "100%|██████████| 229/229 [00:42<00:00,  5.39it/s]\n"
     ]
    },
    {
     "name": "stdout",
     "output_type": "stream",
     "text": [
      "Train Loss: 3.3373 | Validation Loss: 2.1658\n",
      "Model saved!\n",
      "Epoch 15/100\n",
      "Model is training on: cuda:0\n"
     ]
    },
    {
     "name": "stderr",
     "output_type": "stream",
     "text": [
      "100%|██████████| 640/640 [04:11<00:00,  2.55it/s]\n",
      "100%|██████████| 229/229 [00:42<00:00,  5.37it/s]\n"
     ]
    },
    {
     "name": "stdout",
     "output_type": "stream",
     "text": [
      "Train Loss: 2.1245 | Validation Loss: 2.0655\n",
      "Model saved!\n",
      "Epoch 16/100\n",
      "Model is training on: cuda:0\n"
     ]
    },
    {
     "name": "stderr",
     "output_type": "stream",
     "text": [
      "100%|██████████| 640/640 [04:11<00:00,  2.55it/s]\n",
      "100%|██████████| 229/229 [00:42<00:00,  5.39it/s]\n"
     ]
    },
    {
     "name": "stdout",
     "output_type": "stream",
     "text": [
      "Train Loss: 2.2800 | Validation Loss: 2.2031\n",
      "Epoch 17/100\n",
      "Model is training on: cuda:0\n"
     ]
    },
    {
     "name": "stderr",
     "output_type": "stream",
     "text": [
      "100%|██████████| 640/640 [04:11<00:00,  2.55it/s]\n",
      "100%|██████████| 229/229 [00:42<00:00,  5.39it/s]\n"
     ]
    },
    {
     "name": "stdout",
     "output_type": "stream",
     "text": [
      "Train Loss: 2.2839 | Validation Loss: 2.1603\n",
      "Epoch 18/100\n",
      "Model is training on: cuda:0\n"
     ]
    },
    {
     "name": "stderr",
     "output_type": "stream",
     "text": [
      "100%|██████████| 640/640 [04:11<00:00,  2.55it/s]\n",
      "100%|██████████| 229/229 [00:42<00:00,  5.38it/s]\n"
     ]
    },
    {
     "name": "stdout",
     "output_type": "stream",
     "text": [
      "Train Loss: 2.0008 | Validation Loss: 1.9746\n",
      "Model saved!\n",
      "Epoch 19/100\n",
      "Model is training on: cuda:0\n"
     ]
    },
    {
     "name": "stderr",
     "output_type": "stream",
     "text": [
      "100%|██████████| 640/640 [04:11<00:00,  2.55it/s]\n",
      "100%|██████████| 229/229 [00:42<00:00,  5.39it/s]\n"
     ]
    },
    {
     "name": "stdout",
     "output_type": "stream",
     "text": [
      "Train Loss: 1.5201 | Validation Loss: 1.4901\n",
      "Model saved!\n",
      "Epoch 20/100\n",
      "Model is training on: cuda:0\n"
     ]
    },
    {
     "name": "stderr",
     "output_type": "stream",
     "text": [
      "100%|██████████| 640/640 [04:11<00:00,  2.55it/s]\n",
      "100%|██████████| 229/229 [00:42<00:00,  5.38it/s]\n"
     ]
    },
    {
     "name": "stdout",
     "output_type": "stream",
     "text": [
      "Train Loss: 1.4650 | Validation Loss: 1.4020\n",
      "Model saved!\n",
      "Epoch 21/100\n",
      "Model is training on: cuda:0\n"
     ]
    },
    {
     "name": "stderr",
     "output_type": "stream",
     "text": [
      "100%|██████████| 640/640 [04:11<00:00,  2.55it/s]\n",
      "100%|██████████| 229/229 [00:42<00:00,  5.39it/s]\n"
     ]
    },
    {
     "name": "stdout",
     "output_type": "stream",
     "text": [
      "Train Loss: 1.4878 | Validation Loss: 1.4452\n",
      "Epoch 22/100\n",
      "Model is training on: cuda:0\n"
     ]
    },
    {
     "name": "stderr",
     "output_type": "stream",
     "text": [
      "100%|██████████| 640/640 [04:11<00:00,  2.55it/s]\n",
      "100%|██████████| 229/229 [00:42<00:00,  5.39it/s]\n"
     ]
    },
    {
     "name": "stdout",
     "output_type": "stream",
     "text": [
      "Train Loss: 1.4735 | Validation Loss: 1.2348\n",
      "Model saved!\n",
      "Epoch 23/100\n",
      "Model is training on: cuda:0\n"
     ]
    },
    {
     "name": "stderr",
     "output_type": "stream",
     "text": [
      "100%|██████████| 640/640 [04:11<00:00,  2.55it/s]\n",
      "100%|██████████| 229/229 [00:42<00:00,  5.37it/s]\n"
     ]
    },
    {
     "name": "stdout",
     "output_type": "stream",
     "text": [
      "Train Loss: 1.4347 | Validation Loss: 1.2741\n",
      "Epoch 24/100\n",
      "Model is training on: cuda:0\n"
     ]
    },
    {
     "name": "stderr",
     "output_type": "stream",
     "text": [
      "100%|██████████| 640/640 [04:11<00:00,  2.55it/s]\n",
      "100%|██████████| 229/229 [00:42<00:00,  5.39it/s]\n"
     ]
    },
    {
     "name": "stdout",
     "output_type": "stream",
     "text": [
      "Train Loss: 1.3953 | Validation Loss: 1.6545\n",
      "Epoch 25/100\n",
      "Model is training on: cuda:0\n"
     ]
    },
    {
     "name": "stderr",
     "output_type": "stream",
     "text": [
      "100%|██████████| 640/640 [04:12<00:00,  2.53it/s]\n",
      "100%|██████████| 229/229 [00:42<00:00,  5.39it/s]\n"
     ]
    },
    {
     "name": "stdout",
     "output_type": "stream",
     "text": [
      "Train Loss: 1.3288 | Validation Loss: 0.9909\n",
      "Model saved!\n",
      "Epoch 26/100\n",
      "Model is training on: cuda:0\n"
     ]
    },
    {
     "name": "stderr",
     "output_type": "stream",
     "text": [
      "100%|██████████| 640/640 [04:10<00:00,  2.55it/s]\n",
      "100%|██████████| 229/229 [00:42<00:00,  5.39it/s]\n"
     ]
    },
    {
     "name": "stdout",
     "output_type": "stream",
     "text": [
      "Train Loss: 1.2851 | Validation Loss: 1.1812\n",
      "Epoch 27/100\n",
      "Model is training on: cuda:0\n"
     ]
    },
    {
     "name": "stderr",
     "output_type": "stream",
     "text": [
      "100%|██████████| 640/640 [04:10<00:00,  2.55it/s]\n",
      "100%|██████████| 229/229 [00:42<00:00,  5.40it/s]\n"
     ]
    },
    {
     "name": "stdout",
     "output_type": "stream",
     "text": [
      "Train Loss: 77.0793 | Validation Loss: 21.5234\n",
      "Epoch 28/100\n",
      "Model is training on: cuda:0\n"
     ]
    },
    {
     "name": "stderr",
     "output_type": "stream",
     "text": [
      "100%|██████████| 640/640 [04:11<00:00,  2.55it/s]\n",
      "100%|██████████| 229/229 [00:42<00:00,  5.40it/s]\n"
     ]
    },
    {
     "name": "stdout",
     "output_type": "stream",
     "text": [
      "Train Loss: 8.6516 | Validation Loss: 5.5445\n",
      "Epoch 29/100\n",
      "Model is training on: cuda:0\n"
     ]
    },
    {
     "name": "stderr",
     "output_type": "stream",
     "text": [
      "100%|██████████| 640/640 [04:10<00:00,  2.55it/s]\n",
      "100%|██████████| 229/229 [00:42<00:00,  5.40it/s]\n"
     ]
    },
    {
     "name": "stdout",
     "output_type": "stream",
     "text": [
      "Train Loss: 3.8867 | Validation Loss: 2.5217\n",
      "Epoch 30/100\n",
      "Model is training on: cuda:0\n"
     ]
    },
    {
     "name": "stderr",
     "output_type": "stream",
     "text": [
      "100%|██████████| 640/640 [04:10<00:00,  2.55it/s]\n",
      "100%|██████████| 229/229 [00:42<00:00,  5.40it/s]\n"
     ]
    },
    {
     "name": "stdout",
     "output_type": "stream",
     "text": [
      "Train Loss: 2.3703 | Validation Loss: 2.6640\n",
      "Epoch 31/100\n",
      "Model is training on: cuda:0\n"
     ]
    },
    {
     "name": "stderr",
     "output_type": "stream",
     "text": [
      "100%|██████████| 640/640 [04:10<00:00,  2.55it/s]\n",
      "100%|██████████| 229/229 [00:42<00:00,  5.38it/s]\n"
     ]
    },
    {
     "name": "stdout",
     "output_type": "stream",
     "text": [
      "Train Loss: 2.1283 | Validation Loss: 2.5235\n",
      "Epoch 32/100\n",
      "Model is training on: cuda:0\n"
     ]
    },
    {
     "name": "stderr",
     "output_type": "stream",
     "text": [
      "100%|██████████| 640/640 [04:10<00:00,  2.55it/s]\n",
      "100%|██████████| 229/229 [00:42<00:00,  5.39it/s]\n"
     ]
    },
    {
     "name": "stdout",
     "output_type": "stream",
     "text": [
      "Train Loss: 2.2690 | Validation Loss: 2.2508\n",
      "Epoch 33/100\n",
      "Model is training on: cuda:0\n"
     ]
    },
    {
     "name": "stderr",
     "output_type": "stream",
     "text": [
      "100%|██████████| 640/640 [04:11<00:00,  2.55it/s]\n",
      "100%|██████████| 229/229 [00:42<00:00,  5.40it/s]\n"
     ]
    },
    {
     "name": "stdout",
     "output_type": "stream",
     "text": [
      "Train Loss: 1.4742 | Validation Loss: 1.5331\n",
      "Epoch 34/100\n",
      "Model is training on: cuda:0\n"
     ]
    },
    {
     "name": "stderr",
     "output_type": "stream",
     "text": [
      "100%|██████████| 640/640 [04:10<00:00,  2.55it/s]\n",
      "100%|██████████| 229/229 [00:42<00:00,  5.38it/s]\n"
     ]
    },
    {
     "name": "stdout",
     "output_type": "stream",
     "text": [
      "Train Loss: 1.3960 | Validation Loss: 1.3139\n",
      "Epoch 35/100\n",
      "Model is training on: cuda:0\n"
     ]
    },
    {
     "name": "stderr",
     "output_type": "stream",
     "text": [
      "100%|██████████| 640/640 [04:10<00:00,  2.55it/s]\n",
      "100%|██████████| 229/229 [00:42<00:00,  5.38it/s]\n"
     ]
    },
    {
     "name": "stdout",
     "output_type": "stream",
     "text": [
      "Train Loss: 1.3484 | Validation Loss: 1.5043\n",
      "Epoch 36/100\n",
      "Model is training on: cuda:0\n"
     ]
    },
    {
     "name": "stderr",
     "output_type": "stream",
     "text": [
      "100%|██████████| 640/640 [04:11<00:00,  2.55it/s]\n",
      "100%|██████████| 229/229 [00:42<00:00,  5.40it/s]\n"
     ]
    },
    {
     "name": "stdout",
     "output_type": "stream",
     "text": [
      "Train Loss: 1.5129 | Validation Loss: 1.8983\n",
      "Epoch 37/100\n",
      "Model is training on: cuda:0\n"
     ]
    },
    {
     "name": "stderr",
     "output_type": "stream",
     "text": [
      "100%|██████████| 640/640 [04:11<00:00,  2.55it/s]\n",
      "100%|██████████| 229/229 [00:42<00:00,  5.39it/s]\n"
     ]
    },
    {
     "name": "stdout",
     "output_type": "stream",
     "text": [
      "Train Loss: 1.7008 | Validation Loss: 1.4419\n",
      "Epoch 38/100\n",
      "Model is training on: cuda:0\n"
     ]
    },
    {
     "name": "stderr",
     "output_type": "stream",
     "text": [
      "100%|██████████| 640/640 [04:10<00:00,  2.55it/s]\n",
      "100%|██████████| 229/229 [00:42<00:00,  5.39it/s]\n"
     ]
    },
    {
     "name": "stdout",
     "output_type": "stream",
     "text": [
      "Train Loss: 1.3634 | Validation Loss: 1.0193\n",
      "Epoch 39/100\n",
      "Model is training on: cuda:0\n"
     ]
    },
    {
     "name": "stderr",
     "output_type": "stream",
     "text": [
      "100%|██████████| 640/640 [04:11<00:00,  2.55it/s]\n",
      "100%|██████████| 229/229 [00:42<00:00,  5.38it/s]\n"
     ]
    },
    {
     "name": "stdout",
     "output_type": "stream",
     "text": [
      "Train Loss: 1.1435 | Validation Loss: 1.0963\n",
      "Epoch 40/100\n",
      "Model is training on: cuda:0\n"
     ]
    },
    {
     "name": "stderr",
     "output_type": "stream",
     "text": [
      "100%|██████████| 640/640 [04:11<00:00,  2.55it/s]\n",
      "100%|██████████| 229/229 [00:42<00:00,  5.39it/s]\n"
     ]
    },
    {
     "name": "stdout",
     "output_type": "stream",
     "text": [
      "Train Loss: 1.2558 | Validation Loss: 1.1886\n",
      "Epoch 41/100\n",
      "Model is training on: cuda:0\n"
     ]
    },
    {
     "name": "stderr",
     "output_type": "stream",
     "text": [
      "100%|██████████| 640/640 [04:11<00:00,  2.55it/s]\n",
      "100%|██████████| 229/229 [00:42<00:00,  5.38it/s]\n"
     ]
    },
    {
     "name": "stdout",
     "output_type": "stream",
     "text": [
      "Train Loss: 1.5984 | Validation Loss: 2.2235\n",
      "Epoch 42/100\n",
      "Model is training on: cuda:0\n"
     ]
    },
    {
     "name": "stderr",
     "output_type": "stream",
     "text": [
      "100%|██████████| 640/640 [04:11<00:00,  2.55it/s]\n",
      "100%|██████████| 229/229 [00:42<00:00,  5.40it/s]\n"
     ]
    },
    {
     "name": "stdout",
     "output_type": "stream",
     "text": [
      "Train Loss: 1.6645 | Validation Loss: 1.6122\n",
      "Epoch 43/100\n",
      "Model is training on: cuda:0\n"
     ]
    },
    {
     "name": "stderr",
     "output_type": "stream",
     "text": [
      "100%|██████████| 640/640 [04:11<00:00,  2.55it/s]\n",
      "100%|██████████| 229/229 [00:42<00:00,  5.39it/s]\n"
     ]
    },
    {
     "name": "stdout",
     "output_type": "stream",
     "text": [
      "Train Loss: 0.9802 | Validation Loss: 0.8763\n",
      "Model saved!\n",
      "Epoch 44/100\n",
      "Model is training on: cuda:0\n"
     ]
    },
    {
     "name": "stderr",
     "output_type": "stream",
     "text": [
      "100%|██████████| 640/640 [04:11<00:00,  2.55it/s]\n",
      "100%|██████████| 229/229 [00:42<00:00,  5.38it/s]\n"
     ]
    },
    {
     "name": "stdout",
     "output_type": "stream",
     "text": [
      "Train Loss: 0.9364 | Validation Loss: 0.9422\n",
      "Epoch 45/100\n",
      "Model is training on: cuda:0\n"
     ]
    },
    {
     "name": "stderr",
     "output_type": "stream",
     "text": [
      "100%|██████████| 640/640 [04:11<00:00,  2.55it/s]\n",
      "100%|██████████| 229/229 [00:42<00:00,  5.39it/s]\n"
     ]
    },
    {
     "name": "stdout",
     "output_type": "stream",
     "text": [
      "Train Loss: 1.0326 | Validation Loss: 1.2378\n",
      "Epoch 46/100\n",
      "Model is training on: cuda:0\n"
     ]
    },
    {
     "name": "stderr",
     "output_type": "stream",
     "text": [
      "100%|██████████| 640/640 [04:11<00:00,  2.55it/s]\n",
      "100%|██████████| 229/229 [00:42<00:00,  5.39it/s]\n"
     ]
    },
    {
     "name": "stdout",
     "output_type": "stream",
     "text": [
      "Train Loss: 1.6178 | Validation Loss: 1.6519\n",
      "Epoch 47/100\n",
      "Model is training on: cuda:0\n"
     ]
    },
    {
     "name": "stderr",
     "output_type": "stream",
     "text": [
      "100%|██████████| 640/640 [04:11<00:00,  2.55it/s]\n",
      "100%|██████████| 229/229 [00:42<00:00,  5.39it/s]\n"
     ]
    },
    {
     "name": "stdout",
     "output_type": "stream",
     "text": [
      "Train Loss: 1.1550 | Validation Loss: 0.8690\n",
      "Model saved!\n",
      "Epoch 48/100\n",
      "Model is training on: cuda:0\n"
     ]
    },
    {
     "name": "stderr",
     "output_type": "stream",
     "text": [
      "100%|██████████| 640/640 [04:11<00:00,  2.55it/s]\n",
      "100%|██████████| 229/229 [00:42<00:00,  5.39it/s]\n"
     ]
    },
    {
     "name": "stdout",
     "output_type": "stream",
     "text": [
      "Train Loss: 0.8471 | Validation Loss: 0.8573\n",
      "Model saved!\n",
      "Epoch 49/100\n",
      "Model is training on: cuda:0\n"
     ]
    },
    {
     "name": "stderr",
     "output_type": "stream",
     "text": [
      "100%|██████████| 640/640 [04:11<00:00,  2.55it/s]\n",
      "100%|██████████| 229/229 [00:42<00:00,  5.39it/s]\n"
     ]
    },
    {
     "name": "stdout",
     "output_type": "stream",
     "text": [
      "Train Loss: 0.9312 | Validation Loss: 0.8802\n",
      "Epoch 50/100\n",
      "Model is training on: cuda:0\n"
     ]
    },
    {
     "name": "stderr",
     "output_type": "stream",
     "text": [
      "100%|██████████| 640/640 [04:11<00:00,  2.55it/s]\n",
      "100%|██████████| 229/229 [00:42<00:00,  5.37it/s]\n"
     ]
    },
    {
     "name": "stdout",
     "output_type": "stream",
     "text": [
      "Train Loss: 1.2085 | Validation Loss: 0.9487\n",
      "Epoch 51/100\n",
      "Model is training on: cuda:0\n"
     ]
    },
    {
     "name": "stderr",
     "output_type": "stream",
     "text": [
      "100%|██████████| 640/640 [04:11<00:00,  2.55it/s]\n",
      "100%|██████████| 229/229 [00:42<00:00,  5.40it/s]\n"
     ]
    },
    {
     "name": "stdout",
     "output_type": "stream",
     "text": [
      "Train Loss: 1.3864 | Validation Loss: 1.3482\n",
      "Epoch 52/100\n",
      "Model is training on: cuda:0\n"
     ]
    },
    {
     "name": "stderr",
     "output_type": "stream",
     "text": [
      "100%|██████████| 640/640 [04:10<00:00,  2.55it/s]\n",
      "100%|██████████| 229/229 [00:42<00:00,  5.39it/s]\n"
     ]
    },
    {
     "name": "stdout",
     "output_type": "stream",
     "text": [
      "Train Loss: 0.9717 | Validation Loss: 0.6859\n",
      "Model saved!\n",
      "Epoch 53/100\n",
      "Model is training on: cuda:0\n"
     ]
    },
    {
     "name": "stderr",
     "output_type": "stream",
     "text": [
      "100%|██████████| 640/640 [04:11<00:00,  2.55it/s]\n",
      "100%|██████████| 229/229 [00:42<00:00,  5.41it/s]\n"
     ]
    },
    {
     "name": "stdout",
     "output_type": "stream",
     "text": [
      "Train Loss: 0.7516 | Validation Loss: 0.8057\n",
      "Epoch 54/100\n",
      "Model is training on: cuda:0\n"
     ]
    },
    {
     "name": "stderr",
     "output_type": "stream",
     "text": [
      "100%|██████████| 640/640 [04:11<00:00,  2.55it/s]\n",
      "100%|██████████| 229/229 [00:42<00:00,  5.39it/s]\n"
     ]
    },
    {
     "name": "stdout",
     "output_type": "stream",
     "text": [
      "Train Loss: 1.0002 | Validation Loss: 0.8307\n",
      "Epoch 55/100\n",
      "Model is training on: cuda:0\n"
     ]
    },
    {
     "name": "stderr",
     "output_type": "stream",
     "text": [
      "100%|██████████| 640/640 [04:11<00:00,  2.55it/s]\n",
      "100%|██████████| 229/229 [00:42<00:00,  5.38it/s]\n"
     ]
    },
    {
     "name": "stdout",
     "output_type": "stream",
     "text": [
      "Train Loss: 1.0995 | Validation Loss: 1.1924\n",
      "Epoch 56/100\n",
      "Model is training on: cuda:0\n"
     ]
    },
    {
     "name": "stderr",
     "output_type": "stream",
     "text": [
      "100%|██████████| 640/640 [04:11<00:00,  2.55it/s]\n",
      "100%|██████████| 229/229 [00:42<00:00,  5.39it/s]\n"
     ]
    },
    {
     "name": "stdout",
     "output_type": "stream",
     "text": [
      "Train Loss: 1.1443 | Validation Loss: 1.2218\n",
      "Epoch 57/100\n",
      "Model is training on: cuda:0\n"
     ]
    },
    {
     "name": "stderr",
     "output_type": "stream",
     "text": [
      "100%|██████████| 640/640 [04:11<00:00,  2.55it/s]\n",
      "100%|██████████| 229/229 [00:42<00:00,  5.38it/s]\n"
     ]
    },
    {
     "name": "stdout",
     "output_type": "stream",
     "text": [
      "Train Loss: 0.7491 | Validation Loss: 0.6081\n",
      "Model saved!\n",
      "Epoch 58/100\n",
      "Model is training on: cuda:0\n"
     ]
    },
    {
     "name": "stderr",
     "output_type": "stream",
     "text": [
      "100%|██████████| 640/640 [04:11<00:00,  2.55it/s]\n",
      "100%|██████████| 229/229 [00:42<00:00,  5.37it/s]\n"
     ]
    },
    {
     "name": "stdout",
     "output_type": "stream",
     "text": [
      "Train Loss: 0.6523 | Validation Loss: 0.7738\n",
      "Epoch 59/100\n",
      "Model is training on: cuda:0\n"
     ]
    },
    {
     "name": "stderr",
     "output_type": "stream",
     "text": [
      "100%|██████████| 640/640 [04:11<00:00,  2.55it/s]\n",
      "100%|██████████| 229/229 [00:42<00:00,  5.39it/s]\n"
     ]
    },
    {
     "name": "stdout",
     "output_type": "stream",
     "text": [
      "Train Loss: 0.9838 | Validation Loss: 1.2223\n",
      "Epoch 60/100\n",
      "Model is training on: cuda:0\n"
     ]
    },
    {
     "name": "stderr",
     "output_type": "stream",
     "text": [
      "100%|██████████| 640/640 [04:11<00:00,  2.55it/s]\n",
      "100%|██████████| 229/229 [00:42<00:00,  5.37it/s]\n"
     ]
    },
    {
     "name": "stdout",
     "output_type": "stream",
     "text": [
      "Train Loss: 1.1124 | Validation Loss: 1.1364\n",
      "Epoch 61/100\n",
      "Model is training on: cuda:0\n"
     ]
    },
    {
     "name": "stderr",
     "output_type": "stream",
     "text": [
      "100%|██████████| 640/640 [04:11<00:00,  2.55it/s]\n",
      "100%|██████████| 229/229 [00:42<00:00,  5.38it/s]\n"
     ]
    },
    {
     "name": "stdout",
     "output_type": "stream",
     "text": [
      "Train Loss: 0.7079 | Validation Loss: 0.7103\n",
      "Epoch 62/100\n",
      "Model is training on: cuda:0\n"
     ]
    },
    {
     "name": "stderr",
     "output_type": "stream",
     "text": [
      "100%|██████████| 640/640 [04:11<00:00,  2.55it/s]\n",
      "100%|██████████| 229/229 [00:42<00:00,  5.40it/s]\n"
     ]
    },
    {
     "name": "stdout",
     "output_type": "stream",
     "text": [
      "Train Loss: 0.5852 | Validation Loss: 0.5476\n",
      "Model saved!\n",
      "Epoch 63/100\n",
      "Model is training on: cuda:0\n"
     ]
    },
    {
     "name": "stderr",
     "output_type": "stream",
     "text": [
      "100%|██████████| 640/640 [04:11<00:00,  2.55it/s]\n",
      "100%|██████████| 229/229 [00:42<00:00,  5.38it/s]\n"
     ]
    },
    {
     "name": "stdout",
     "output_type": "stream",
     "text": [
      "Train Loss: 0.7489 | Validation Loss: 0.5891\n",
      "Epoch 64/100\n",
      "Model is training on: cuda:0\n"
     ]
    },
    {
     "name": "stderr",
     "output_type": "stream",
     "text": [
      "100%|██████████| 640/640 [04:11<00:00,  2.55it/s]\n",
      "100%|██████████| 229/229 [00:42<00:00,  5.39it/s]\n"
     ]
    },
    {
     "name": "stdout",
     "output_type": "stream",
     "text": [
      "Train Loss: 0.9623 | Validation Loss: 1.4110\n",
      "Epoch 65/100\n",
      "Model is training on: cuda:0\n"
     ]
    },
    {
     "name": "stderr",
     "output_type": "stream",
     "text": [
      "100%|██████████| 640/640 [04:11<00:00,  2.55it/s]\n",
      "100%|██████████| 229/229 [00:42<00:00,  5.36it/s]\n"
     ]
    },
    {
     "name": "stdout",
     "output_type": "stream",
     "text": [
      "Train Loss: 0.9921 | Validation Loss: 0.9508\n",
      "Epoch 66/100\n",
      "Model is training on: cuda:0\n"
     ]
    },
    {
     "name": "stderr",
     "output_type": "stream",
     "text": [
      "100%|██████████| 640/640 [04:11<00:00,  2.55it/s]\n",
      "100%|██████████| 229/229 [00:42<00:00,  5.38it/s]\n"
     ]
    },
    {
     "name": "stdout",
     "output_type": "stream",
     "text": [
      "Train Loss: 0.8570 | Validation Loss: 0.8101\n",
      "Epoch 67/100\n",
      "Model is training on: cuda:0\n"
     ]
    },
    {
     "name": "stderr",
     "output_type": "stream",
     "text": [
      "100%|██████████| 640/640 [04:11<00:00,  2.55it/s]\n",
      "100%|██████████| 229/229 [00:42<00:00,  5.39it/s]\n"
     ]
    },
    {
     "name": "stdout",
     "output_type": "stream",
     "text": [
      "Train Loss: 0.5209 | Validation Loss: 0.4970\n",
      "Model saved!\n",
      "Epoch 68/100\n",
      "Model is training on: cuda:0\n"
     ]
    },
    {
     "name": "stderr",
     "output_type": "stream",
     "text": [
      "100%|██████████| 640/640 [04:11<00:00,  2.55it/s]\n",
      "100%|██████████| 229/229 [00:42<00:00,  5.38it/s]\n"
     ]
    },
    {
     "name": "stdout",
     "output_type": "stream",
     "text": [
      "Train Loss: 0.6005 | Validation Loss: 0.7185\n",
      "Epoch 69/100\n",
      "Model is training on: cuda:0\n"
     ]
    },
    {
     "name": "stderr",
     "output_type": "stream",
     "text": [
      "100%|██████████| 640/640 [04:11<00:00,  2.55it/s]\n",
      "100%|██████████| 229/229 [00:42<00:00,  5.37it/s]\n"
     ]
    },
    {
     "name": "stdout",
     "output_type": "stream",
     "text": [
      "Train Loss: 0.9653 | Validation Loss: 1.0414\n",
      "Epoch 70/100\n",
      "Model is training on: cuda:0\n"
     ]
    },
    {
     "name": "stderr",
     "output_type": "stream",
     "text": [
      "100%|██████████| 640/640 [04:11<00:00,  2.55it/s]\n",
      "100%|██████████| 229/229 [00:42<00:00,  5.39it/s]\n"
     ]
    },
    {
     "name": "stdout",
     "output_type": "stream",
     "text": [
      "Train Loss: 0.8824 | Validation Loss: 0.9539\n",
      "Epoch 71/100\n",
      "Model is training on: cuda:0\n"
     ]
    },
    {
     "name": "stderr",
     "output_type": "stream",
     "text": [
      "100%|██████████| 640/640 [04:11<00:00,  2.55it/s]\n",
      "100%|██████████| 229/229 [00:42<00:00,  5.37it/s]\n"
     ]
    },
    {
     "name": "stdout",
     "output_type": "stream",
     "text": [
      "Train Loss: 0.6380 | Validation Loss: 0.4951\n",
      "Model saved!\n",
      "Epoch 72/100\n",
      "Model is training on: cuda:0\n"
     ]
    },
    {
     "name": "stderr",
     "output_type": "stream",
     "text": [
      "100%|██████████| 640/640 [04:11<00:00,  2.55it/s]\n",
      "100%|██████████| 229/229 [00:42<00:00,  5.38it/s]\n"
     ]
    },
    {
     "name": "stdout",
     "output_type": "stream",
     "text": [
      "Train Loss: 0.6934 | Validation Loss: 1.1255\n",
      "Epoch 73/100\n",
      "Model is training on: cuda:0\n"
     ]
    },
    {
     "name": "stderr",
     "output_type": "stream",
     "text": [
      "100%|██████████| 640/640 [04:11<00:00,  2.55it/s]\n",
      "100%|██████████| 229/229 [00:42<00:00,  5.39it/s]\n"
     ]
    },
    {
     "name": "stdout",
     "output_type": "stream",
     "text": [
      "Train Loss: 0.8763 | Validation Loss: 0.8220\n",
      "Epoch 74/100\n",
      "Model is training on: cuda:0\n"
     ]
    },
    {
     "name": "stderr",
     "output_type": "stream",
     "text": [
      "100%|██████████| 640/640 [04:11<00:00,  2.55it/s]\n",
      "100%|██████████| 229/229 [00:42<00:00,  5.38it/s]\n"
     ]
    },
    {
     "name": "stdout",
     "output_type": "stream",
     "text": [
      "Train Loss: 0.7208 | Validation Loss: 0.9298\n",
      "Epoch 75/100\n",
      "Model is training on: cuda:0\n"
     ]
    },
    {
     "name": "stderr",
     "output_type": "stream",
     "text": [
      "100%|██████████| 640/640 [04:11<00:00,  2.55it/s]\n",
      "100%|██████████| 229/229 [00:42<00:00,  5.39it/s]\n"
     ]
    },
    {
     "name": "stdout",
     "output_type": "stream",
     "text": [
      "Train Loss: 0.8018 | Validation Loss: 0.7416\n",
      "Epoch 76/100\n",
      "Model is training on: cuda:0\n"
     ]
    },
    {
     "name": "stderr",
     "output_type": "stream",
     "text": [
      "100%|██████████| 640/640 [04:11<00:00,  2.55it/s]\n",
      "100%|██████████| 229/229 [00:42<00:00,  5.38it/s]\n"
     ]
    },
    {
     "name": "stdout",
     "output_type": "stream",
     "text": [
      "Train Loss: 0.5482 | Validation Loss: 0.4007\n",
      "Model saved!\n",
      "Epoch 77/100\n",
      "Model is training on: cuda:0\n"
     ]
    },
    {
     "name": "stderr",
     "output_type": "stream",
     "text": [
      "100%|██████████| 640/640 [04:11<00:00,  2.55it/s]\n",
      "100%|██████████| 229/229 [00:42<00:00,  5.38it/s]\n"
     ]
    },
    {
     "name": "stdout",
     "output_type": "stream",
     "text": [
      "Train Loss: 0.4740 | Validation Loss: 0.7395\n",
      "Epoch 78/100\n",
      "Model is training on: cuda:0\n"
     ]
    },
    {
     "name": "stderr",
     "output_type": "stream",
     "text": [
      "100%|██████████| 640/640 [04:11<00:00,  2.55it/s]\n",
      "100%|██████████| 229/229 [00:42<00:00,  5.39it/s]\n"
     ]
    },
    {
     "name": "stdout",
     "output_type": "stream",
     "text": [
      "Train Loss: 0.7675 | Validation Loss: 1.0138\n",
      "Epoch 79/100\n",
      "Model is training on: cuda:0\n"
     ]
    },
    {
     "name": "stderr",
     "output_type": "stream",
     "text": [
      "100%|██████████| 640/640 [04:11<00:00,  2.55it/s]\n",
      "100%|██████████| 229/229 [00:42<00:00,  5.39it/s]\n"
     ]
    },
    {
     "name": "stdout",
     "output_type": "stream",
     "text": [
      "Train Loss: 0.8773 | Validation Loss: 1.0164\n",
      "Epoch 80/100\n",
      "Model is training on: cuda:0\n"
     ]
    },
    {
     "name": "stderr",
     "output_type": "stream",
     "text": [
      "100%|██████████| 640/640 [04:11<00:00,  2.55it/s]\n",
      "100%|██████████| 229/229 [00:42<00:00,  5.38it/s]\n"
     ]
    },
    {
     "name": "stdout",
     "output_type": "stream",
     "text": [
      "Train Loss: 0.7295 | Validation Loss: 0.4794\n",
      "Epoch 81/100\n",
      "Model is training on: cuda:0\n"
     ]
    },
    {
     "name": "stderr",
     "output_type": "stream",
     "text": [
      "100%|██████████| 640/640 [04:11<00:00,  2.55it/s]\n",
      "100%|██████████| 229/229 [00:42<00:00,  5.39it/s]\n"
     ]
    },
    {
     "name": "stdout",
     "output_type": "stream",
     "text": [
      "Train Loss: 0.6302 | Validation Loss: 0.7348\n",
      "Epoch 82/100\n",
      "Model is training on: cuda:0\n"
     ]
    },
    {
     "name": "stderr",
     "output_type": "stream",
     "text": [
      "100%|██████████| 640/640 [04:11<00:00,  2.55it/s]\n",
      "100%|██████████| 229/229 [00:42<00:00,  5.38it/s]\n"
     ]
    },
    {
     "name": "stdout",
     "output_type": "stream",
     "text": [
      "Train Loss: 0.7632 | Validation Loss: 0.6591\n",
      "Epoch 83/100\n",
      "Model is training on: cuda:0\n"
     ]
    },
    {
     "name": "stderr",
     "output_type": "stream",
     "text": [
      "100%|██████████| 640/640 [04:11<00:00,  2.55it/s]\n",
      "100%|██████████| 229/229 [00:42<00:00,  5.39it/s]\n"
     ]
    },
    {
     "name": "stdout",
     "output_type": "stream",
     "text": [
      "Train Loss: 0.5834 | Validation Loss: 0.8101\n",
      "Epoch 84/100\n",
      "Model is training on: cuda:0\n"
     ]
    },
    {
     "name": "stderr",
     "output_type": "stream",
     "text": [
      "100%|██████████| 640/640 [04:11<00:00,  2.55it/s]\n",
      "100%|██████████| 229/229 [00:42<00:00,  5.39it/s]\n"
     ]
    },
    {
     "name": "stdout",
     "output_type": "stream",
     "text": [
      "Train Loss: 0.7649 | Validation Loss: 0.8936\n",
      "Epoch 85/100\n",
      "Model is training on: cuda:0\n"
     ]
    },
    {
     "name": "stderr",
     "output_type": "stream",
     "text": [
      "100%|██████████| 640/640 [04:11<00:00,  2.55it/s]\n",
      "100%|██████████| 229/229 [00:42<00:00,  5.38it/s]\n"
     ]
    },
    {
     "name": "stdout",
     "output_type": "stream",
     "text": [
      "Train Loss: 0.6058 | Validation Loss: 0.6825\n",
      "Epoch 86/100\n",
      "Model is training on: cuda:0\n"
     ]
    },
    {
     "name": "stderr",
     "output_type": "stream",
     "text": [
      "100%|██████████| 640/640 [04:11<00:00,  2.55it/s]\n",
      "100%|██████████| 229/229 [00:42<00:00,  5.39it/s]\n"
     ]
    },
    {
     "name": "stdout",
     "output_type": "stream",
     "text": [
      "Train Loss: 0.7317 | Validation Loss: 0.8738\n",
      "Epoch 87/100\n",
      "Model is training on: cuda:0\n"
     ]
    },
    {
     "name": "stderr",
     "output_type": "stream",
     "text": [
      "100%|██████████| 640/640 [04:11<00:00,  2.55it/s]\n",
      "100%|██████████| 229/229 [00:42<00:00,  5.37it/s]\n"
     ]
    },
    {
     "name": "stdout",
     "output_type": "stream",
     "text": [
      "Train Loss: 0.6144 | Validation Loss: 0.4116\n",
      "Epoch 88/100\n",
      "Model is training on: cuda:0\n"
     ]
    },
    {
     "name": "stderr",
     "output_type": "stream",
     "text": [
      "100%|██████████| 640/640 [04:11<00:00,  2.55it/s]\n",
      "100%|██████████| 229/229 [00:42<00:00,  5.38it/s]\n"
     ]
    },
    {
     "name": "stdout",
     "output_type": "stream",
     "text": [
      "Train Loss: 0.4939 | Validation Loss: 0.5796\n",
      "Epoch 89/100\n",
      "Model is training on: cuda:0\n"
     ]
    },
    {
     "name": "stderr",
     "output_type": "stream",
     "text": [
      "100%|██████████| 640/640 [04:11<00:00,  2.55it/s]\n",
      "100%|██████████| 229/229 [00:42<00:00,  5.39it/s]\n"
     ]
    },
    {
     "name": "stdout",
     "output_type": "stream",
     "text": [
      "Train Loss: 0.7870 | Validation Loss: 0.6419\n",
      "Epoch 90/100\n",
      "Model is training on: cuda:0\n"
     ]
    },
    {
     "name": "stderr",
     "output_type": "stream",
     "text": [
      "100%|██████████| 640/640 [04:11<00:00,  2.55it/s]\n",
      "100%|██████████| 229/229 [00:42<00:00,  5.38it/s]\n"
     ]
    },
    {
     "name": "stdout",
     "output_type": "stream",
     "text": [
      "Train Loss: 0.6709 | Validation Loss: 0.4475\n",
      "Epoch 91/100\n",
      "Model is training on: cuda:0\n"
     ]
    },
    {
     "name": "stderr",
     "output_type": "stream",
     "text": [
      "100%|██████████| 640/640 [04:11<00:00,  2.55it/s]\n",
      "100%|██████████| 229/229 [00:42<00:00,  5.39it/s]\n"
     ]
    },
    {
     "name": "stdout",
     "output_type": "stream",
     "text": [
      "Train Loss: 0.5044 | Validation Loss: 0.9100\n",
      "Epoch 92/100\n",
      "Model is training on: cuda:0\n"
     ]
    },
    {
     "name": "stderr",
     "output_type": "stream",
     "text": [
      "100%|██████████| 640/640 [04:11<00:00,  2.55it/s]\n",
      "100%|██████████| 229/229 [00:42<00:00,  5.39it/s]\n"
     ]
    },
    {
     "name": "stdout",
     "output_type": "stream",
     "text": [
      "Train Loss: 0.7449 | Validation Loss: 0.7202\n",
      "Epoch 93/100\n",
      "Model is training on: cuda:0\n"
     ]
    },
    {
     "name": "stderr",
     "output_type": "stream",
     "text": [
      "100%|██████████| 640/640 [04:11<00:00,  2.55it/s]\n",
      "100%|██████████| 229/229 [00:42<00:00,  5.38it/s]\n"
     ]
    },
    {
     "name": "stdout",
     "output_type": "stream",
     "text": [
      "Train Loss: 0.5844 | Validation Loss: 0.4051\n",
      "Epoch 94/100\n",
      "Model is training on: cuda:0\n"
     ]
    },
    {
     "name": "stderr",
     "output_type": "stream",
     "text": [
      "100%|██████████| 640/640 [04:11<00:00,  2.55it/s]\n",
      "100%|██████████| 229/229 [00:42<00:00,  5.38it/s]\n"
     ]
    },
    {
     "name": "stdout",
     "output_type": "stream",
     "text": [
      "Train Loss: 0.6772 | Validation Loss: 0.5814\n",
      "Epoch 95/100\n",
      "Model is training on: cuda:0\n"
     ]
    },
    {
     "name": "stderr",
     "output_type": "stream",
     "text": [
      "100%|██████████| 640/640 [04:11<00:00,  2.55it/s]\n",
      "100%|██████████| 229/229 [00:42<00:00,  5.39it/s]\n"
     ]
    },
    {
     "name": "stdout",
     "output_type": "stream",
     "text": [
      "Train Loss: 0.5948 | Validation Loss: 0.6578\n",
      "Epoch 96/100\n",
      "Model is training on: cuda:0\n"
     ]
    },
    {
     "name": "stderr",
     "output_type": "stream",
     "text": [
      "100%|██████████| 640/640 [04:11<00:00,  2.55it/s]\n",
      "100%|██████████| 229/229 [00:42<00:00,  5.38it/s]\n"
     ]
    },
    {
     "name": "stdout",
     "output_type": "stream",
     "text": [
      "Train Loss: 0.6815 | Validation Loss: 0.6041\n",
      "Epoch 97/100\n",
      "Model is training on: cuda:0\n"
     ]
    },
    {
     "name": "stderr",
     "output_type": "stream",
     "text": [
      "100%|██████████| 640/640 [04:11<00:00,  2.55it/s]\n",
      "100%|██████████| 229/229 [00:42<00:00,  5.38it/s]\n"
     ]
    },
    {
     "name": "stdout",
     "output_type": "stream",
     "text": [
      "Train Loss: 0.4052 | Validation Loss: 0.4247\n",
      "Epoch 98/100\n",
      "Model is training on: cuda:0\n"
     ]
    },
    {
     "name": "stderr",
     "output_type": "stream",
     "text": [
      "100%|██████████| 640/640 [04:11<00:00,  2.55it/s]\n",
      "100%|██████████| 229/229 [00:42<00:00,  5.38it/s]\n"
     ]
    },
    {
     "name": "stdout",
     "output_type": "stream",
     "text": [
      "Train Loss: 0.5179 | Validation Loss: 0.6243\n",
      "Epoch 99/100\n",
      "Model is training on: cuda:0\n"
     ]
    },
    {
     "name": "stderr",
     "output_type": "stream",
     "text": [
      "100%|██████████| 640/640 [04:11<00:00,  2.55it/s]\n",
      "100%|██████████| 229/229 [00:42<00:00,  5.38it/s]\n"
     ]
    },
    {
     "name": "stdout",
     "output_type": "stream",
     "text": [
      "Train Loss: 0.7594 | Validation Loss: 0.6185\n",
      "Epoch 100/100\n",
      "Model is training on: cuda:0\n"
     ]
    },
    {
     "name": "stderr",
     "output_type": "stream",
     "text": [
      "100%|██████████| 640/640 [04:11<00:00,  2.55it/s]\n",
      "100%|██████████| 229/229 [00:42<00:00,  5.38it/s]"
     ]
    },
    {
     "name": "stdout",
     "output_type": "stream",
     "text": [
      "Train Loss: 0.6656 | Validation Loss: 0.6058\n"
     ]
    },
    {
     "name": "stderr",
     "output_type": "stream",
     "text": [
      "\n"
     ]
    }
   ],
   "source": [
    "device = torch.device(\"cuda\" if torch.cuda.is_available() else \"cpu\")\n",
    "print(device)\n",
    "model = RCAN(num_features=64, num_groups=10, num_blocks=20, reduction=16, scale=10, in_channels=1, out_channels=1).to(device)\n",
    "\n",
    "learning_rate = 0.0001\n",
    "criterion = nn.L1Loss().to(device)\n",
    "optimizer = optim.Adam(model.parameters(), lr=learning_rate,weight_decay=1e-4)\n",
    "\n",
    "num_epochs = 100\n",
    "best_loss = float('inf')\n",
    "\n",
    "for epoch in range(num_epochs):\n",
    "    print(f'Epoch {epoch+1}/{num_epochs}')\n",
    "    print(f'Model is training on: {next(model.parameters()).device}')\n",
    "    train_loss = train_model(model, dataloader_train, criterion, optimizer, device)\n",
    "    val_loss = validate_model(model, dataloader_val, criterion, device)\n",
    "    print(f'Train Loss: {train_loss:.4f} | Validation Loss: {val_loss:.4f}')\n",
    "    \n",
    "    if val_loss < best_loss:\n",
    "        best_loss = val_loss\n",
    "        torch.save(model.state_dict(), 'path')\n",
    "        print('Model saved!')\n"
   ]
  },
  {
   "cell_type": "code",
   "execution_count": null,
   "id": "37839c2f-7451-4301-a9da-ab802edde50a",
   "metadata": {},
   "outputs": [],
   "source": []
  },
  {
   "cell_type": "code",
   "execution_count": null,
   "id": "89c64bce-c85b-41c5-a0e4-27c58832c95f",
   "metadata": {},
   "outputs": [],
   "source": []
  }
 ],
 "metadata": {
  "kernelspec": {
   "display_name": "Python 3 (ipykernel)",
   "language": "python",
   "name": "python3"
  },
  "language_info": {
   "codemirror_mode": {
    "name": "ipython",
    "version": 3
   },
   "file_extension": ".py",
   "mimetype": "text/x-python",
   "name": "python",
   "nbconvert_exporter": "python",
   "pygments_lexer": "ipython3",
   "version": "3.9.20"
  }
 },
 "nbformat": 4,
 "nbformat_minor": 5
}
